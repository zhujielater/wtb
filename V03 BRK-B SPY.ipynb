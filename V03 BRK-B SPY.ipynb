{
 "cells": [
  {
   "cell_type": "code",
   "execution_count": 3,
   "metadata": {},
   "outputs": [
    {
     "data": {
      "image/png": "[encoded data removed]",
      "text/plain": [
       "<Figure size 432x288 with 1 Axes>"
      ]
     },
     "metadata": {
      "needs_background": "light"
     },
     "output_type": "display_data"
    }
   ],
   "source": [
    "import pandas as pd\n",
    "from datetime import datetime\n",
    "import matplotlib.pyplot as plt\n",
    "from pandasql import sqldf\n",
    "pysqldf = lambda q: sqldf(q, globals())\n",
    "\n",
    "#------------------------------\n",
    "#-- 0. Read in \n",
    "#------------------------------\n",
    "df = pd.read_csv('M03 BRK-B SPY.csv')\n",
    "\n",
    "#----------------------------------------\n",
    "#-- 1. calc return1, pivot AID to columns\n",
    "#----------------------------------------\n",
    "df['return1'] = df['mv']/df['cost']\n",
    "pivoted = df.pivot(index='Date', columns='AID', values='return1')\n",
    "\n",
    "flattened = pd.DataFrame(pivoted.to_records())\n",
    "cols = flattened.columns.values.tolist() \n",
    "cols.remove('Date')\n",
    "\n",
    "#-------------------------------------------------\n",
    "#-- 2. plot return1 \n",
    "#-------------------------------------------------\n",
    "def get_chart(df, cols):\n",
    "    \n",
    "    x1 = df['Date']\n",
    "    y1 = df[cols]\n",
    "\n",
    "    fig, ax1 = plt.subplots()\n",
    "\n",
    "    #-- plot\n",
    "    ax1.plot(x1, y1) # \n",
    "\n",
    "    #-- x1(date)\n",
    "    plt.xticks(x1) # x1(Date)\n",
    "    ax1.set_xlabel('Date')\n",
    "\n",
    "    #-- set max xaxis n ticks\n",
    "    ax1.xaxis.set_major_locator(plt.MaxNLocator(5))\n",
    "    \n",
    "    #-- plot title\n",
    "    plt.title('return')\n",
    "    \n",
    "    #-- plot legend\n",
    "    plt.legend(cols)\n",
    "    \n",
    "    #-- horizontal grid\n",
    "    ax1.yaxis.grid(True)\n",
    "\n",
    "    #-- plot tight_layout, show\n",
    "    plt.tight_layout()\n",
    "    plt.show()\n",
    "    \n",
    "get_chart(df=flattened, cols=cols)\n",
    "\n",
    "\n",
    "#------------------------------\n",
    "#-- 3. Output to csv\n",
    "#------------------------------\n",
    "# Key: Date\n",
    "flattened.to_csv('V03 BRK-B SPY.csv',index=False) "
   ]
  },
  {
   "cell_type": "code",
   "execution_count": 2,
   "metadata": {},
   "outputs": [
    {
     "data": {
      "text/html": [
       "<div>\n",
       "<style scoped>\n",
       "    .dataframe tbody tr th:only-of-type {\n",
       "        vertical-align: middle;\n",
       "    }\n",
       "\n",
       "    .dataframe tbody tr th {\n",
       "        vertical-align: top;\n",
       "    }\n",
       "\n",
       "    .dataframe thead th {\n",
       "        text-align: right;\n",
       "    }\n",
       "</style>\n",
       "<table border=\"1\" class=\"dataframe\">\n",
       "  <thead>\n",
       "    <tr style=\"text-align: right;\">\n",
       "      <th></th>\n",
       "      <th>Date</th>\n",
       "      <th>BRK-B</th>\n",
       "      <th>SPY</th>\n",
       "    </tr>\n",
       "  </thead>\n",
       "  <tbody>\n",
       "    <tr>\n",
       "      <th>1273</th>\n",
       "      <td>2019-03-22</td>\n",
       "      <td>1.605942</td>\n",
       "      <td>1.637915</td>\n",
       "    </tr>\n",
       "    <tr>\n",
       "      <th>1274</th>\n",
       "      <td>2019-03-25</td>\n",
       "      <td>1.597053</td>\n",
       "      <td>1.636683</td>\n",
       "    </tr>\n",
       "    <tr>\n",
       "      <th>1275</th>\n",
       "      <td>2019-03-26</td>\n",
       "      <td>1.606502</td>\n",
       "      <td>1.648883</td>\n",
       "    </tr>\n",
       "    <tr>\n",
       "      <th>1276</th>\n",
       "      <td>2019-03-27</td>\n",
       "      <td>1.595211</td>\n",
       "      <td>1.640261</td>\n",
       "    </tr>\n",
       "    <tr>\n",
       "      <th>1277</th>\n",
       "      <td>2019-03-28</td>\n",
       "      <td>1.606823</td>\n",
       "      <td>1.646478</td>\n",
       "    </tr>\n",
       "  </tbody>\n",
       "</table>\n",
       "</div>"
      ],
      "text/plain": [
       "            Date     BRK-B       SPY\n",
       "1273  2019-03-22  1.605942  1.637915\n",
       "1274  2019-03-25  1.597053  1.636683\n",
       "1275  2019-03-26  1.606502  1.648883\n",
       "1276  2019-03-27  1.595211  1.640261\n",
       "1277  2019-03-28  1.606823  1.646478"
      ]
     },
     "execution_count": 2,
     "metadata": {},
     "output_type": "execute_result"
    }
   ],
   "source": [
    "flattened.tail()"
   ]
  },
  {
   "cell_type": "code",
   "execution_count": null,
   "metadata": {},
   "outputs": [],
   "source": []
  },
  {
   "cell_type": "code",
   "execution_count": null,
   "metadata": {},
   "outputs": [],
   "source": []
  },
  {
   "cell_type": "code",
   "execution_count": null,
   "metadata": {},
   "outputs": [],
   "source": []
  },
  {
   "cell_type": "code",
   "execution_count": 3,
   "metadata": {},
   "outputs": [],
   "source": []
  },
  {
   "cell_type": "code",
   "execution_count": null,
   "metadata": {},
   "outputs": [],
   "source": []
  }
 ],
 "metadata": {
  "kernelspec": {
   "display_name": "Python 3",
   "language": "python",
   "name": "python3"
  },
  "language_info": {
   "codemirror_mode": {
    "name": "ipython",
    "version": 3
   },
   "file_extension": ".py",
   "mimetype": "text/x-python",
   "name": "python",
   "nbconvert_exporter": "python",
   "pygments_lexer": "ipython3",
   "version": "3.7.0"
  }
 },
 "nbformat": 4,
 "nbformat_minor": 2
}
