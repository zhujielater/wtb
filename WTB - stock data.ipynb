{
 "cells": [
  {
   "cell_type": "code",
   "execution_count": null,
   "metadata": {},
   "outputs": [],
   "source": [
    "# source: https://maikros.github.io/yahoo-finance-python/\n",
    "\n",
    "import requests                  # [handles the http interactions](http://docs.python-requests.org/en/master/) \n",
    "from bs4 import BeautifulSoup    # beautiful soup handles the html to text conversion and more\n",
    "import re                        # regular expressions are necessary for finding the crumb (more on crumbs later)\n",
    "from datetime import datetime    # string to datetime object conversion\n",
    "from time import mktime          # mktime transforms datetime objects to unix timestamps\n",
    "\n",
    "def _get_crumbs_and_cookies(stock):\n",
    "    \"\"\"\n",
    "    get crumb and cookies for historical data csv download from yahoo finance\n",
    "    \n",
    "    parameters: stock - short-handle identifier of the company \n",
    "    \n",
    "    returns a tuple of header, crumb and cookie\n",
    "    \"\"\"\n",
    "    \n",
    "    url = 'https://finance.yahoo.com/quote/{}/history'.format(stock)\n",
    "    with requests.session():\n",
    "        header = {'Connection': 'keep-alive',\n",
    "                   'Expires': '-1',\n",
    "                   'Upgrade-Insecure-Requests': '1',\n",
    "                   'User-Agent': 'Mozilla/5.0 (Windows NT 10.0; WOW64) \\\n",
    "                   AppleWebKit/537.36 (KHTML, like Gecko) Chrome/54.0.2840.99 Safari/537.36'\n",
    "                   }\n",
    "        \n",
    "        website = requests.get(url, headers=header)\n",
    "        soup = BeautifulSoup(website.text, 'lxml')\n",
    "        crumb = re.findall('\"CrumbStore\":{\"crumb\":\"(.+?)\"}', str(soup))\n",
    "\n",
    "        return (header, crumb[0], website.cookies)\n",
    "    \n",
    "    \n",
    "def convert_to_unix(date):\n",
    "    \"\"\"\n",
    "    converts date to unix timestamp\n",
    "    \n",
    "    parameters: date - in format (dd-mm-yyyy)\n",
    "    \n",
    "    returns integer unix timestamp\n",
    "    \"\"\"\n",
    "    datum = datetime.strptime(date, '%d-%m-%Y')\n",
    "    \n",
    "    return int(mktime(datum.timetuple()))\n",
    "\n",
    "\n",
    "def load_csv_data(stock, interval='1d', day_begin='01-03-2018', day_end='28-03-2018'):\n",
    "    \"\"\"\n",
    "    queries yahoo finance api to receive historical data in csv file format\n",
    "    \n",
    "    parameters: \n",
    "        stock - short-handle identifier of the company\n",
    "        \n",
    "        interval - 1d, 1wk, 1mo - daily, weekly monthly data\n",
    "        \n",
    "        day_begin - starting date for the historical data (format: dd-mm-yyyy)\n",
    "        \n",
    "        day_end - final date of the data (format: dd-mm-yyyy)\n",
    "    \n",
    "    returns a list of comma seperated value lines\n",
    "    \"\"\"\n",
    "    day_begin_unix = convert_to_unix(day_begin)\n",
    "    day_end_unix = convert_to_unix(day_end)\n",
    "    \n",
    "    header, crumb, cookies = _get_crumbs_and_cookies(stock)\n",
    "    \n",
    "    with requests.session():\n",
    "        url = 'https://query1.finance.yahoo.com/v7/finance/download/' \\\n",
    "              '{stock}?period1={day_begin}&period2={day_end}&interval={interval}&events=history&crumb={crumb}' \\\n",
    "              .format(stock=stock, day_begin=day_begin_unix, day_end=day_end_unix, interval=interval, crumb=crumb)\n",
    "                \n",
    "        website = requests.get(url, headers=header, cookies=cookies)\n",
    "       \n",
    "        return website.text # old: website.text.split('\\n')[:-1]\n",
    "\n",
    "def text4csv(stock='AAPL', day_begin='01-03-2018', day_end='28-03-2019'):\n",
    "    text4csv = load_csv_data(stock, day_begin=day_begin, day_end=day_end)\n",
    "    f = open(stock + '.csv', \"w\") \n",
    "    f.write(text4csv)\n",
    "    f.close()\n",
    "\n",
    "day_begin = '01-03-2014'\n",
    "day_end   = '28-03-2019'\n",
    "\n",
    "import pandas as pd\n",
    "def chk_csv(stock):\n",
    "    df = pd.read_csv(stock + '.csv')\n",
    "    print(df.head())"
   ]
  },
  {
   "cell_type": "code",
   "execution_count": 58,
   "metadata": {},
   "outputs": [
    {
     "name": "stdout",
     "output_type": "stream",
     "text": [
      "         Date       Open       High        Low      Close  Adj Close    Volume\n",
      "0  2014-03-03  74.774284  75.807144  74.687141  75.394287  66.669823  59695300\n",
      "1  2014-03-04  75.857140  76.091431  75.395714  75.891426  67.109421  64785000\n",
      "2  2014-03-05  75.845711  76.392860  75.589996  76.051430  67.250908  50015700\n",
      "3  2014-03-06  76.112854  76.348572  75.442856  75.821426  67.047539  46372200\n",
      "4  2014-03-07  75.870003  75.997147  75.150002  75.777145  67.008354  55182400\n"
     ]
    }
   ],
   "source": [
    "text4csv(stock='AAPL', day_begin=day_begin, day_end=day_end)\n",
    "chk_csv('AAPL')"
   ]
  },
  {
   "cell_type": "code",
   "execution_count": 59,
   "metadata": {},
   "outputs": [
    {
     "name": "stdout",
     "output_type": "stream",
     "text": [
      "         Date       Open       High        Low      Close  Adj Close    Volume\n",
      "0  2015-12-09  21.000000  21.000000  21.000000  21.000000  21.000000         0\n",
      "1  2015-12-10  27.670000  28.500000  26.500000  27.780001  27.780001  15007300\n",
      "2  2015-12-11  27.850000  28.500000  27.480000  27.500000  27.500000   2286100\n",
      "3  2015-12-14  27.500000  27.860001  26.110001  26.260000  26.260000   1223500\n",
      "4  2015-12-15  26.389999  26.948999  26.299999  26.500000  26.500000   1086400\n"
     ]
    }
   ],
   "source": [
    "text4csv(stock='TEAM', day_begin=day_begin, day_end=day_end)\n",
    "chk_csv('TEAM')"
   ]
  },
  {
   "cell_type": "code",
   "execution_count": 60,
   "metadata": {},
   "outputs": [
    {
     "name": "stdout",
     "output_type": "stream",
     "text": [
      "         Date       Open       High        Low      Close  Adj Close    Volume\n",
      "0  2014-03-03  60.650002  61.709999  59.820000  61.490002  61.490002   9303400\n",
      "1  2014-03-04  62.180000  63.369999  62.009998  63.070000  63.070000   7927200\n",
      "2  2014-03-05  63.070000  63.750000  62.939999  63.680000  63.680000   5464400\n",
      "3  2014-03-06  63.750000  63.869999  62.730000  63.139999  63.139999   3958800\n",
      "4  2014-03-07  63.200001  63.360001  59.730000  60.740002  60.740002  11239300\n"
     ]
    }
   ],
   "source": [
    "stock = 'CRM'\n",
    "text4csv(stock=stock, day_begin=day_begin, day_end=day_end)\n",
    "chk_csv(stock)"
   ]
  },
  {
   "cell_type": "code",
   "execution_count": 61,
   "metadata": {},
   "outputs": [
    {
     "name": "stdout",
     "output_type": "stream",
     "text": [
      "         Date       Open       High        Low      Close  Adj Close  \\\n",
      "0  2014-09-19  92.699997  99.699997  89.949997  93.889999  93.889999   \n",
      "1  2014-09-22  92.699997  92.949997  89.500000  89.889999  89.889999   \n",
      "2  2014-09-23  88.940002  90.480003  86.620003  87.169998  87.169998   \n",
      "3  2014-09-24  88.470001  90.570000  87.220001  90.570000  90.570000   \n",
      "4  2014-09-25  91.089996  91.500000  88.500000  88.919998  88.919998   \n",
      "\n",
      "      Volume  \n",
      "0  271879400  \n",
      "1   66657800  \n",
      "2   39009800  \n",
      "3   32088000  \n",
      "4   28598000  \n"
     ]
    }
   ],
   "source": [
    "def get_csv_chk(stock):\n",
    "    text4csv(stock=stock, day_begin=day_begin, day_end=day_end)\n",
    "    chk_csv(stock)\n",
    "\n",
    "get_csv_chk('BABA')"
   ]
  },
  {
   "cell_type": "code",
   "execution_count": null,
   "metadata": {},
   "outputs": [],
   "source": []
  }
 ],
 "metadata": {
  "kernelspec": {
   "display_name": "Python 3",
   "language": "python",
   "name": "python3"
  },
  "language_info": {
   "codemirror_mode": {
    "name": "ipython",
    "version": 3
   },
   "file_extension": ".py",
   "mimetype": "text/x-python",
   "name": "python",
   "nbconvert_exporter": "python",
   "pygments_lexer": "ipython3",
   "version": "3.7.0"
  }
 },
 "nbformat": 4,
 "nbformat_minor": 2
}
